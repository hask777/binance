{
 "cells": [
  {
   "cell_type": "code",
   "execution_count": 16,
   "id": "4e089df8-2328-4f68-8976-e4a22e2263cf",
   "metadata": {},
   "outputs": [],
   "source": [
    "from binance import Client, ThreadedWebsocketManager, ThreadedDepthCacheManager\n",
    "import pandas as pd\n",
    "from cred import API_KEY, SECRET_KEY"
   ]
  },
  {
   "cell_type": "code",
   "execution_count": 21,
   "id": "d650b96f-0efc-49c2-b9ae-8db5f64e2153",
   "metadata": {},
   "outputs": [],
   "source": [
    "api_key = API_KEY\n",
    "api_secret = SECRET_KEY\n",
    "\n",
    "symbol='ETH'\n",
    "\n",
    "client = Client(API_KEY, SECRET_KEY)"
   ]
  },
  {
   "cell_type": "code",
   "execution_count": 23,
   "id": "074fcf7f-bd61-4e21-8af4-f5624d43cb93",
   "metadata": {},
   "outputs": [
    {
     "ename": "TypeError",
     "evalue": "get_all_orders() takes 1 positional argument but 2 were given",
     "output_type": "error",
     "traceback": [
      "\u001b[1;31m---------------------------------------------------------------------------\u001b[0m",
      "\u001b[1;31mTypeError\u001b[0m                                 Traceback (most recent call last)",
      "\u001b[1;32m~\\AppData\\Local\\Temp\\ipykernel_1188\\1726116584.py\u001b[0m in \u001b[0;36m<module>\u001b[1;34m\u001b[0m\n\u001b[1;32m----> 1\u001b[1;33m \u001b[0morder\u001b[0m \u001b[1;33m=\u001b[0m \u001b[0mclient\u001b[0m\u001b[1;33m.\u001b[0m\u001b[0mget_all_orders\u001b[0m\u001b[1;33m(\u001b[0m\u001b[0msymbol\u001b[0m\u001b[1;33m)\u001b[0m\u001b[1;33m\u001b[0m\u001b[1;33m\u001b[0m\u001b[0m\n\u001b[0m",
      "\u001b[1;31mTypeError\u001b[0m: get_all_orders() takes 1 positional argument but 2 were given"
     ]
    }
   ],
   "source": [
    "order = client.get_all_orders(symbol)"
   ]
  },
  {
   "cell_type": "code",
   "execution_count": null,
   "id": "f49488c7-cfa4-4789-832d-3dfa7a452058",
   "metadata": {},
   "outputs": [],
   "source": []
  }
 ],
 "metadata": {
  "kernelspec": {
   "display_name": "Python 3 (ipykernel)",
   "language": "python",
   "name": "python3"
  },
  "language_info": {
   "codemirror_mode": {
    "name": "ipython",
    "version": 3
   },
   "file_extension": ".py",
   "mimetype": "text/x-python",
   "name": "python",
   "nbconvert_exporter": "python",
   "pygments_lexer": "ipython3",
   "version": "3.9.13"
  }
 },
 "nbformat": 4,
 "nbformat_minor": 5
}
